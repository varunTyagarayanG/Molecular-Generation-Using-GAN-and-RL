{
 "cells": [
  {
   "cell_type": "code",
   "execution_count": 1,
   "metadata": {},
   "outputs": [
    {
     "name": "stdout",
     "output_type": "stream",
     "text": [
      "Looking in links: https://download.pytorch.org/whl/torch_stable.html\n",
      "Requirement already satisfied: allennlp==2.10.1 in c:\\users\\varun\\anaconda3\\envs\\allennlp_env\\lib\\site-packages (from -r requirement.txt (line 1)) (2.10.1)\n",
      "Requirement already satisfied: torch==1.12.1+cu116 in c:\\users\\varun\\anaconda3\\envs\\allennlp_env\\lib\\site-packages (from -r requirement.txt (line 3)) (1.12.1+cu116)\n",
      "Requirement already satisfied: torchvision==0.13.1+cu116 in c:\\users\\varun\\anaconda3\\envs\\allennlp_env\\lib\\site-packages (from -r requirement.txt (line 4)) (0.13.1+cu116)\n",
      "Requirement already satisfied: torchaudio==0.12.1 in c:\\users\\varun\\anaconda3\\envs\\allennlp_env\\lib\\site-packages (from -r requirement.txt (line 5)) (0.12.1+cu116)\n",
      "Requirement already satisfied: spacy==3.3.3 in c:\\users\\varun\\anaconda3\\envs\\allennlp_env\\lib\\site-packages (from -r requirement.txt (line 7)) (3.3.3)\n",
      "Requirement already satisfied: transformers==4.20.1 in c:\\users\\varun\\anaconda3\\envs\\allennlp_env\\lib\\site-packages (from -r requirement.txt (line 8)) (4.20.1)\n",
      "Requirement already satisfied: pydantic==1.8.2 in c:\\users\\varun\\anaconda3\\envs\\allennlp_env\\lib\\site-packages (from -r requirement.txt (line 9)) (1.8.2)\n",
      "Requirement already satisfied: typing-extensions==4.5.0 in c:\\users\\varun\\anaconda3\\envs\\allennlp_env\\lib\\site-packages (from -r requirement.txt (line 10)) (4.5.0)\n",
      "Requirement already satisfied: thinc==8.0.17 in c:\\users\\varun\\anaconda3\\envs\\allennlp_env\\lib\\site-packages (from -r requirement.txt (line 11)) (8.0.17)\n",
      "Requirement already satisfied: numpy in c:\\users\\varun\\anaconda3\\envs\\allennlp_env\\lib\\site-packages (from -r requirement.txt (line 13)) (1.24.4)\n",
      "Requirement already satisfied: scipy in c:\\users\\varun\\anaconda3\\envs\\allennlp_env\\lib\\site-packages (from -r requirement.txt (line 14)) (1.10.1)\n",
      "Requirement already satisfied: matplotlib in c:\\users\\varun\\anaconda3\\envs\\allennlp_env\\lib\\site-packages (from -r requirement.txt (line 15)) (3.7.5)\n",
      "Requirement already satisfied: tqdm in c:\\users\\varun\\anaconda3\\envs\\allennlp_env\\lib\\site-packages (from -r requirement.txt (line 16)) (4.67.1)\n",
      "Requirement already satisfied: rdkit in c:\\users\\varun\\anaconda3\\envs\\allennlp_env\\lib\\site-packages (from -r requirement.txt (line 17)) (2024.3.5)\n",
      "Requirement already satisfied: cached-path<1.2.0,>=1.1.3 in c:\\users\\varun\\anaconda3\\envs\\allennlp_env\\lib\\site-packages (from allennlp==2.10.1->-r requirement.txt (line 1)) (1.1.6)\n",
      "Requirement already satisfied: fairscale==0.4.6 in c:\\users\\varun\\anaconda3\\envs\\allennlp_env\\lib\\site-packages (from allennlp==2.10.1->-r requirement.txt (line 1)) (0.4.6)\n",
      "Requirement already satisfied: nltk>=3.6.5 in c:\\users\\varun\\anaconda3\\envs\\allennlp_env\\lib\\site-packages (from allennlp==2.10.1->-r requirement.txt (line 1)) (3.9.1)\n",
      "Requirement already satisfied: tensorboardX>=1.2 in c:\\users\\varun\\anaconda3\\envs\\allennlp_env\\lib\\site-packages (from allennlp==2.10.1->-r requirement.txt (line 1)) (2.6.2.2)\n",
      "Requirement already satisfied: requests>=2.28 in c:\\users\\varun\\anaconda3\\envs\\allennlp_env\\lib\\site-packages (from allennlp==2.10.1->-r requirement.txt (line 1)) (2.32.3)\n",
      "Requirement already satisfied: h5py>=3.6.0 in c:\\users\\varun\\anaconda3\\envs\\allennlp_env\\lib\\site-packages (from allennlp==2.10.1->-r requirement.txt (line 1)) (3.11.0)\n",
      "Requirement already satisfied: scikit-learn>=1.0.1 in c:\\users\\varun\\anaconda3\\envs\\allennlp_env\\lib\\site-packages (from allennlp==2.10.1->-r requirement.txt (line 1)) (1.3.2)\n",
      "Requirement already satisfied: pytest>=6.2.5 in c:\\users\\varun\\anaconda3\\envs\\allennlp_env\\lib\\site-packages (from allennlp==2.10.1->-r requirement.txt (line 1)) (8.3.5)\n",
      "Requirement already satisfied: sentencepiece>=0.1.96 in c:\\users\\varun\\anaconda3\\envs\\allennlp_env\\lib\\site-packages (from allennlp==2.10.1->-r requirement.txt (line 1)) (0.2.0)\n",
      "Requirement already satisfied: filelock<3.8,>=3.3 in c:\\users\\varun\\anaconda3\\envs\\allennlp_env\\lib\\site-packages (from allennlp==2.10.1->-r requirement.txt (line 1)) (3.7.1)\n",
      "Requirement already satisfied: lmdb>=1.2.1 in c:\\users\\varun\\anaconda3\\envs\\allennlp_env\\lib\\site-packages (from allennlp==2.10.1->-r requirement.txt (line 1)) (1.6.2)\n",
      "Requirement already satisfied: more-itertools>=8.12.0 in c:\\users\\varun\\anaconda3\\envs\\allennlp_env\\lib\\site-packages (from allennlp==2.10.1->-r requirement.txt (line 1)) (10.5.0)\n",
      "Requirement already satisfied: termcolor==1.1.0 in c:\\users\\varun\\anaconda3\\envs\\allennlp_env\\lib\\site-packages (from allennlp==2.10.1->-r requirement.txt (line 1)) (1.1.0)\n",
      "Requirement already satisfied: wandb<0.13.0,>=0.10.0 in c:\\users\\varun\\anaconda3\\envs\\allennlp_env\\lib\\site-packages (from allennlp==2.10.1->-r requirement.txt (line 1)) (0.12.21)\n",
      "Requirement already satisfied: huggingface-hub>=0.0.16 in c:\\users\\varun\\anaconda3\\envs\\allennlp_env\\lib\\site-packages (from allennlp==2.10.1->-r requirement.txt (line 1)) (0.10.1)\n",
      "Requirement already satisfied: dill>=0.3.4 in c:\\users\\varun\\anaconda3\\envs\\allennlp_env\\lib\\site-packages (from allennlp==2.10.1->-r requirement.txt (line 1)) (0.3.9)\n",
      "Requirement already satisfied: base58>=2.1.1 in c:\\users\\varun\\anaconda3\\envs\\allennlp_env\\lib\\site-packages (from allennlp==2.10.1->-r requirement.txt (line 1)) (2.1.1)\n",
      "Requirement already satisfied: sacremoses in c:\\users\\varun\\anaconda3\\envs\\allennlp_env\\lib\\site-packages (from allennlp==2.10.1->-r requirement.txt (line 1)) (0.1.1)\n",
      "Requirement already satisfied: typer>=0.4.1 in c:\\users\\varun\\anaconda3\\envs\\allennlp_env\\lib\\site-packages (from allennlp==2.10.1->-r requirement.txt (line 1)) (0.4.2)\n",
      "Requirement already satisfied: protobuf<4.0.0,>=3.12.0 in c:\\users\\varun\\anaconda3\\envs\\allennlp_env\\lib\\site-packages (from allennlp==2.10.1->-r requirement.txt (line 1)) (3.20.3)\n",
      "Requirement already satisfied: traitlets>5.1.1 in c:\\users\\varun\\anaconda3\\envs\\allennlp_env\\lib\\site-packages (from allennlp==2.10.1->-r requirement.txt (line 1)) (5.14.3)\n",
      "Requirement already satisfied: pillow!=8.3.*,>=5.3.0 in c:\\users\\varun\\anaconda3\\envs\\allennlp_env\\lib\\site-packages (from torchvision==0.13.1+cu116->-r requirement.txt (line 4)) (10.4.0)\n",
      "Requirement already satisfied: spacy-legacy<3.1.0,>=3.0.9 in c:\\users\\varun\\anaconda3\\envs\\allennlp_env\\lib\\site-packages (from spacy==3.3.3->-r requirement.txt (line 7)) (3.0.12)\n",
      "Requirement already satisfied: spacy-loggers<2.0.0,>=1.0.0 in c:\\users\\varun\\anaconda3\\envs\\allennlp_env\\lib\\site-packages (from spacy==3.3.3->-r requirement.txt (line 7)) (1.0.5)\n",
      "Requirement already satisfied: murmurhash<1.1.0,>=0.28.0 in c:\\users\\varun\\anaconda3\\envs\\allennlp_env\\lib\\site-packages (from spacy==3.3.3->-r requirement.txt (line 7)) (1.0.12)\n",
      "Requirement already satisfied: cymem<2.1.0,>=2.0.2 in c:\\users\\varun\\anaconda3\\envs\\allennlp_env\\lib\\site-packages (from spacy==3.3.3->-r requirement.txt (line 7)) (2.0.11)\n",
      "Requirement already satisfied: preshed<3.1.0,>=3.0.2 in c:\\users\\varun\\anaconda3\\envs\\allennlp_env\\lib\\site-packages (from spacy==3.3.3->-r requirement.txt (line 7)) (3.0.9)\n",
      "Requirement already satisfied: blis<0.8.0,>=0.4.0 in c:\\users\\varun\\anaconda3\\envs\\allennlp_env\\lib\\site-packages (from spacy==3.3.3->-r requirement.txt (line 7)) (0.7.11)\n",
      "Requirement already satisfied: wasabi<1.1.0,>=0.9.1 in c:\\users\\varun\\anaconda3\\envs\\allennlp_env\\lib\\site-packages (from spacy==3.3.3->-r requirement.txt (line 7)) (0.10.1)\n",
      "Requirement already satisfied: srsly<3.0.0,>=2.4.3 in c:\\users\\varun\\anaconda3\\envs\\allennlp_env\\lib\\site-packages (from spacy==3.3.3->-r requirement.txt (line 7)) (2.4.8)\n",
      "Requirement already satisfied: catalogue<2.1.0,>=2.0.6 in c:\\users\\varun\\anaconda3\\envs\\allennlp_env\\lib\\site-packages (from spacy==3.3.3->-r requirement.txt (line 7)) (2.0.10)\n",
      "Requirement already satisfied: pathy>=0.3.5 in c:\\users\\varun\\anaconda3\\envs\\allennlp_env\\lib\\site-packages (from spacy==3.3.3->-r requirement.txt (line 7)) (0.11.0)\n",
      "Requirement already satisfied: smart-open<7.0.0,>=5.2.1 in c:\\users\\varun\\anaconda3\\envs\\allennlp_env\\lib\\site-packages (from spacy==3.3.3->-r requirement.txt (line 7)) (6.4.0)\n",
      "Requirement already satisfied: jinja2 in c:\\users\\varun\\anaconda3\\envs\\allennlp_env\\lib\\site-packages (from spacy==3.3.3->-r requirement.txt (line 7)) (3.1.6)\n",
      "Requirement already satisfied: setuptools in c:\\users\\varun\\anaconda3\\envs\\allennlp_env\\lib\\site-packages (from spacy==3.3.3->-r requirement.txt (line 7)) (75.1.0)\n",
      "Requirement already satisfied: packaging>=20.0 in c:\\users\\varun\\anaconda3\\envs\\allennlp_env\\lib\\site-packages (from spacy==3.3.3->-r requirement.txt (line 7)) (24.2)\n",
      "Requirement already satisfied: langcodes<4.0.0,>=3.2.0 in c:\\users\\varun\\anaconda3\\envs\\allennlp_env\\lib\\site-packages (from spacy==3.3.3->-r requirement.txt (line 7)) (3.4.1)\n",
      "Requirement already satisfied: pyyaml>=5.1 in c:\\users\\varun\\anaconda3\\envs\\allennlp_env\\lib\\site-packages (from transformers==4.20.1->-r requirement.txt (line 8)) (6.0.2)\n",
      "Requirement already satisfied: regex!=2019.12.17 in c:\\users\\varun\\anaconda3\\envs\\allennlp_env\\lib\\site-packages (from transformers==4.20.1->-r requirement.txt (line 8)) (2024.11.6)\n",
      "Requirement already satisfied: tokenizers!=0.11.3,<0.13,>=0.11.1 in c:\\users\\varun\\anaconda3\\envs\\allennlp_env\\lib\\site-packages (from transformers==4.20.1->-r requirement.txt (line 8)) (0.12.1)\n",
      "Requirement already satisfied: contourpy>=1.0.1 in c:\\users\\varun\\anaconda3\\envs\\allennlp_env\\lib\\site-packages (from matplotlib->-r requirement.txt (line 15)) (1.1.1)\n",
      "Requirement already satisfied: cycler>=0.10 in c:\\users\\varun\\anaconda3\\envs\\allennlp_env\\lib\\site-packages (from matplotlib->-r requirement.txt (line 15)) (0.12.1)\n",
      "Requirement already satisfied: fonttools>=4.22.0 in c:\\users\\varun\\anaconda3\\envs\\allennlp_env\\lib\\site-packages (from matplotlib->-r requirement.txt (line 15)) (4.57.0)\n",
      "Requirement already satisfied: kiwisolver>=1.0.1 in c:\\users\\varun\\anaconda3\\envs\\allennlp_env\\lib\\site-packages (from matplotlib->-r requirement.txt (line 15)) (1.4.7)\n",
      "Requirement already satisfied: pyparsing>=2.3.1 in c:\\users\\varun\\anaconda3\\envs\\allennlp_env\\lib\\site-packages (from matplotlib->-r requirement.txt (line 15)) (3.1.4)\n",
      "Requirement already satisfied: python-dateutil>=2.7 in c:\\users\\varun\\anaconda3\\envs\\allennlp_env\\lib\\site-packages (from matplotlib->-r requirement.txt (line 15)) (2.9.0)\n",
      "Requirement already satisfied: importlib-resources>=3.2.0 in c:\\users\\varun\\anaconda3\\envs\\allennlp_env\\lib\\site-packages (from matplotlib->-r requirement.txt (line 15)) (6.4.5)\n",
      "Requirement already satisfied: colorama in c:\\users\\varun\\anaconda3\\envs\\allennlp_env\\lib\\site-packages (from tqdm->-r requirement.txt (line 16)) (0.4.6)\n",
      "Requirement already satisfied: rich<13.0,>=12.1 in c:\\users\\varun\\anaconda3\\envs\\allennlp_env\\lib\\site-packages (from cached-path<1.2.0,>=1.1.3->allennlp==2.10.1->-r requirement.txt (line 1)) (12.6.0)\n",
      "Requirement already satisfied: boto3<2.0,>=1.0 in c:\\users\\varun\\anaconda3\\envs\\allennlp_env\\lib\\site-packages (from cached-path<1.2.0,>=1.1.3->allennlp==2.10.1->-r requirement.txt (line 1)) (1.37.32)\n",
      "Requirement already satisfied: google-cloud-storage<3.0,>=1.32.0 in c:\\users\\varun\\anaconda3\\envs\\allennlp_env\\lib\\site-packages (from cached-path<1.2.0,>=1.1.3->allennlp==2.10.1->-r requirement.txt (line 1)) (2.19.0)\n",
      "Requirement already satisfied: zipp>=3.1.0 in c:\\users\\varun\\anaconda3\\envs\\allennlp_env\\lib\\site-packages (from importlib-resources>=3.2.0->matplotlib->-r requirement.txt (line 15)) (3.21.0)\n",
      "Requirement already satisfied: language-data>=1.2 in c:\\users\\varun\\anaconda3\\envs\\allennlp_env\\lib\\site-packages (from langcodes<4.0.0,>=3.2.0->spacy==3.3.3->-r requirement.txt (line 7)) (1.3.0)\n",
      "Requirement already satisfied: click in c:\\users\\varun\\anaconda3\\envs\\allennlp_env\\lib\\site-packages (from nltk>=3.6.5->allennlp==2.10.1->-r requirement.txt (line 1)) (8.1.8)\n",
      "Requirement already satisfied: joblib in c:\\users\\varun\\anaconda3\\envs\\allennlp_env\\lib\\site-packages (from nltk>=3.6.5->allennlp==2.10.1->-r requirement.txt (line 1)) (1.4.2)\n",
      "Requirement already satisfied: pathlib-abc==0.1.1 in c:\\users\\varun\\anaconda3\\envs\\allennlp_env\\lib\\site-packages (from pathy>=0.3.5->spacy==3.3.3->-r requirement.txt (line 7)) (0.1.1)\n",
      "Requirement already satisfied: exceptiongroup>=1.0.0rc8 in c:\\users\\varun\\anaconda3\\envs\\allennlp_env\\lib\\site-packages (from pytest>=6.2.5->allennlp==2.10.1->-r requirement.txt (line 1)) (1.2.2)\n",
      "Requirement already satisfied: iniconfig in c:\\users\\varun\\anaconda3\\envs\\allennlp_env\\lib\\site-packages (from pytest>=6.2.5->allennlp==2.10.1->-r requirement.txt (line 1)) (2.1.0)\n",
      "Requirement already satisfied: pluggy<2,>=1.5 in c:\\users\\varun\\anaconda3\\envs\\allennlp_env\\lib\\site-packages (from pytest>=6.2.5->allennlp==2.10.1->-r requirement.txt (line 1)) (1.5.0)\n",
      "Requirement already satisfied: tomli>=1 in c:\\users\\varun\\anaconda3\\envs\\allennlp_env\\lib\\site-packages (from pytest>=6.2.5->allennlp==2.10.1->-r requirement.txt (line 1)) (2.2.1)\n",
      "Requirement already satisfied: six>=1.5 in c:\\users\\varun\\anaconda3\\envs\\allennlp_env\\lib\\site-packages (from python-dateutil>=2.7->matplotlib->-r requirement.txt (line 15)) (1.16.0)\n",
      "Requirement already satisfied: charset-normalizer<4,>=2 in c:\\users\\varun\\anaconda3\\envs\\allennlp_env\\lib\\site-packages (from requests>=2.28->allennlp==2.10.1->-r requirement.txt (line 1)) (3.4.1)\n",
      "Requirement already satisfied: idna<4,>=2.5 in c:\\users\\varun\\anaconda3\\envs\\allennlp_env\\lib\\site-packages (from requests>=2.28->allennlp==2.10.1->-r requirement.txt (line 1)) (3.10)\n",
      "Requirement already satisfied: urllib3<3,>=1.21.1 in c:\\users\\varun\\anaconda3\\envs\\allennlp_env\\lib\\site-packages (from requests>=2.28->allennlp==2.10.1->-r requirement.txt (line 1)) (1.26.20)\n",
      "Requirement already satisfied: certifi>=2017.4.17 in c:\\users\\varun\\anaconda3\\envs\\allennlp_env\\lib\\site-packages (from requests>=2.28->allennlp==2.10.1->-r requirement.txt (line 1)) (2025.1.31)\n",
      "Requirement already satisfied: threadpoolctl>=2.0.0 in c:\\users\\varun\\anaconda3\\envs\\allennlp_env\\lib\\site-packages (from scikit-learn>=1.0.1->allennlp==2.10.1->-r requirement.txt (line 1)) (3.5.0)\n",
      "Requirement already satisfied: GitPython>=1.0.0 in c:\\users\\varun\\anaconda3\\envs\\allennlp_env\\lib\\site-packages (from wandb<0.13.0,>=0.10.0->allennlp==2.10.1->-r requirement.txt (line 1)) (3.1.44)\n",
      "Requirement already satisfied: promise<3,>=2.0 in c:\\users\\varun\\anaconda3\\envs\\allennlp_env\\lib\\site-packages (from wandb<0.13.0,>=0.10.0->allennlp==2.10.1->-r requirement.txt (line 1)) (2.3)\n",
      "Requirement already satisfied: shortuuid>=0.5.0 in c:\\users\\varun\\anaconda3\\envs\\allennlp_env\\lib\\site-packages (from wandb<0.13.0,>=0.10.0->allennlp==2.10.1->-r requirement.txt (line 1)) (1.0.13)\n",
      "Requirement already satisfied: psutil>=5.0.0 in c:\\users\\varun\\anaconda3\\envs\\allennlp_env\\lib\\site-packages (from wandb<0.13.0,>=0.10.0->allennlp==2.10.1->-r requirement.txt (line 1)) (6.0.0)\n",
      "Requirement already satisfied: sentry-sdk>=1.0.0 in c:\\users\\varun\\anaconda3\\envs\\allennlp_env\\lib\\site-packages (from wandb<0.13.0,>=0.10.0->allennlp==2.10.1->-r requirement.txt (line 1)) (2.25.1)\n",
      "Requirement already satisfied: docker-pycreds>=0.4.0 in c:\\users\\varun\\anaconda3\\envs\\allennlp_env\\lib\\site-packages (from wandb<0.13.0,>=0.10.0->allennlp==2.10.1->-r requirement.txt (line 1)) (0.4.0)\n",
      "Requirement already satisfied: pathtools in c:\\users\\varun\\anaconda3\\envs\\allennlp_env\\lib\\site-packages (from wandb<0.13.0,>=0.10.0->allennlp==2.10.1->-r requirement.txt (line 1)) (0.1.2)\n",
      "Requirement already satisfied: setproctitle in c:\\users\\varun\\anaconda3\\envs\\allennlp_env\\lib\\site-packages (from wandb<0.13.0,>=0.10.0->allennlp==2.10.1->-r requirement.txt (line 1)) (1.3.5)\n",
      "Requirement already satisfied: MarkupSafe>=2.0 in c:\\users\\varun\\anaconda3\\envs\\allennlp_env\\lib\\site-packages (from jinja2->spacy==3.3.3->-r requirement.txt (line 7)) (2.1.5)\n",
      "Requirement already satisfied: botocore<1.38.0,>=1.37.32 in c:\\users\\varun\\anaconda3\\envs\\allennlp_env\\lib\\site-packages (from boto3<2.0,>=1.0->cached-path<1.2.0,>=1.1.3->allennlp==2.10.1->-r requirement.txt (line 1)) (1.37.32)\n",
      "Requirement already satisfied: jmespath<2.0.0,>=0.7.1 in c:\\users\\varun\\anaconda3\\envs\\allennlp_env\\lib\\site-packages (from boto3<2.0,>=1.0->cached-path<1.2.0,>=1.1.3->allennlp==2.10.1->-r requirement.txt (line 1)) (1.0.1)\n",
      "Requirement already satisfied: s3transfer<0.12.0,>=0.11.0 in c:\\users\\varun\\anaconda3\\envs\\allennlp_env\\lib\\site-packages (from boto3<2.0,>=1.0->cached-path<1.2.0,>=1.1.3->allennlp==2.10.1->-r requirement.txt (line 1)) (0.11.4)\n",
      "Requirement already satisfied: gitdb<5,>=4.0.1 in c:\\users\\varun\\anaconda3\\envs\\allennlp_env\\lib\\site-packages (from GitPython>=1.0.0->wandb<0.13.0,>=0.10.0->allennlp==2.10.1->-r requirement.txt (line 1)) (4.0.12)\n",
      "Requirement already satisfied: google-auth<3.0dev,>=2.26.1 in c:\\users\\varun\\anaconda3\\envs\\allennlp_env\\lib\\site-packages (from google-cloud-storage<3.0,>=1.32.0->cached-path<1.2.0,>=1.1.3->allennlp==2.10.1->-r requirement.txt (line 1)) (2.38.0)\n",
      "Requirement already satisfied: google-api-core<3.0.0dev,>=2.15.0 in c:\\users\\varun\\anaconda3\\envs\\allennlp_env\\lib\\site-packages (from google-cloud-storage<3.0,>=1.32.0->cached-path<1.2.0,>=1.1.3->allennlp==2.10.1->-r requirement.txt (line 1)) (2.24.2)\n",
      "Requirement already satisfied: google-cloud-core<3.0dev,>=2.3.0 in c:\\users\\varun\\anaconda3\\envs\\allennlp_env\\lib\\site-packages (from google-cloud-storage<3.0,>=1.32.0->cached-path<1.2.0,>=1.1.3->allennlp==2.10.1->-r requirement.txt (line 1)) (2.4.3)\n",
      "Requirement already satisfied: google-resumable-media>=2.7.2 in c:\\users\\varun\\anaconda3\\envs\\allennlp_env\\lib\\site-packages (from google-cloud-storage<3.0,>=1.32.0->cached-path<1.2.0,>=1.1.3->allennlp==2.10.1->-r requirement.txt (line 1)) (2.7.2)\n",
      "Requirement already satisfied: google-crc32c<2.0dev,>=1.0 in c:\\users\\varun\\anaconda3\\envs\\allennlp_env\\lib\\site-packages (from google-cloud-storage<3.0,>=1.32.0->cached-path<1.2.0,>=1.1.3->allennlp==2.10.1->-r requirement.txt (line 1)) (1.5.0)\n",
      "Requirement already satisfied: marisa-trie>=1.1.0 in c:\\users\\varun\\anaconda3\\envs\\allennlp_env\\lib\\site-packages (from language-data>=1.2->langcodes<4.0.0,>=3.2.0->spacy==3.3.3->-r requirement.txt (line 7)) (1.2.1)\n",
      "Requirement already satisfied: commonmark<0.10.0,>=0.9.0 in c:\\users\\varun\\anaconda3\\envs\\allennlp_env\\lib\\site-packages (from rich<13.0,>=12.1->cached-path<1.2.0,>=1.1.3->allennlp==2.10.1->-r requirement.txt (line 1)) (0.9.1)\n",
      "Requirement already satisfied: pygments<3.0.0,>=2.6.0 in c:\\users\\varun\\anaconda3\\envs\\allennlp_env\\lib\\site-packages (from rich<13.0,>=12.1->cached-path<1.2.0,>=1.1.3->allennlp==2.10.1->-r requirement.txt (line 1)) (2.18.0)\n",
      "Requirement already satisfied: smmap<6,>=3.0.1 in c:\\users\\varun\\anaconda3\\envs\\allennlp_env\\lib\\site-packages (from gitdb<5,>=4.0.1->GitPython>=1.0.0->wandb<0.13.0,>=0.10.0->allennlp==2.10.1->-r requirement.txt (line 1)) (5.0.2)\n",
      "Requirement already satisfied: googleapis-common-protos<2.0.0,>=1.56.2 in c:\\users\\varun\\anaconda3\\envs\\allennlp_env\\lib\\site-packages (from google-api-core<3.0.0dev,>=2.15.0->google-cloud-storage<3.0,>=1.32.0->cached-path<1.2.0,>=1.1.3->allennlp==2.10.1->-r requirement.txt (line 1)) (1.69.2)\n",
      "Requirement already satisfied: proto-plus<2.0.0,>=1.22.3 in c:\\users\\varun\\anaconda3\\envs\\allennlp_env\\lib\\site-packages (from google-api-core<3.0.0dev,>=2.15.0->google-cloud-storage<3.0,>=1.32.0->cached-path<1.2.0,>=1.1.3->allennlp==2.10.1->-r requirement.txt (line 1)) (1.26.1)\n",
      "Requirement already satisfied: cachetools<6.0,>=2.0.0 in c:\\users\\varun\\anaconda3\\envs\\allennlp_env\\lib\\site-packages (from google-auth<3.0dev,>=2.26.1->google-cloud-storage<3.0,>=1.32.0->cached-path<1.2.0,>=1.1.3->allennlp==2.10.1->-r requirement.txt (line 1)) (5.5.2)\n",
      "Requirement already satisfied: pyasn1-modules>=0.2.1 in c:\\users\\varun\\anaconda3\\envs\\allennlp_env\\lib\\site-packages (from google-auth<3.0dev,>=2.26.1->google-cloud-storage<3.0,>=1.32.0->cached-path<1.2.0,>=1.1.3->allennlp==2.10.1->-r requirement.txt (line 1)) (0.4.2)\n",
      "Requirement already satisfied: rsa<5,>=3.1.4 in c:\\users\\varun\\anaconda3\\envs\\allennlp_env\\lib\\site-packages (from google-auth<3.0dev,>=2.26.1->google-cloud-storage<3.0,>=1.32.0->cached-path<1.2.0,>=1.1.3->allennlp==2.10.1->-r requirement.txt (line 1)) (4.9)\n",
      "Requirement already satisfied: pyasn1<0.7.0,>=0.6.1 in c:\\users\\varun\\anaconda3\\envs\\allennlp_env\\lib\\site-packages (from pyasn1-modules>=0.2.1->google-auth<3.0dev,>=2.26.1->google-cloud-storage<3.0,>=1.32.0->cached-path<1.2.0,>=1.1.3->allennlp==2.10.1->-r requirement.txt (line 1)) (0.6.1)\n"
     ]
    }
   ],
   "source": [
    "!pip install -r requirement.txt -f https://download.pytorch.org/whl/torch_stable.html"
   ]
  },
  {
   "cell_type": "code",
   "execution_count": 2,
   "metadata": {},
   "outputs": [
    {
     "name": "stderr",
     "output_type": "stream",
     "text": [
      "'nvcc' is not recognized as an internal or external command,\n",
      "operable program or batch file.\n"
     ]
    }
   ],
   "source": [
    "!nvcc --version"
   ]
  },
  {
   "cell_type": "code",
   "execution_count": 3,
   "metadata": {},
   "outputs": [
    {
     "name": "stdout",
     "output_type": "stream",
     "text": [
      "False\n",
      "11.6\n"
     ]
    },
    {
     "name": "stderr",
     "output_type": "stream",
     "text": [
      "Traceback (most recent call last):\n",
      "  File \"<string>\", line 1, in <module>\n",
      "  File \"c:\\Users\\varun\\anaconda3\\envs\\allennlp_env\\lib\\site-packages\\torch\\cuda\\__init__.py\", line 329, in get_device_name\n",
      "    return get_device_properties(device).name\n",
      "  File \"c:\\Users\\varun\\anaconda3\\envs\\allennlp_env\\lib\\site-packages\\torch\\cuda\\__init__.py\", line 359, in get_device_properties\n",
      "    _lazy_init()  # will define _get_device_properties\n",
      "  File \"c:\\Users\\varun\\anaconda3\\envs\\allennlp_env\\lib\\site-packages\\torch\\cuda\\__init__.py\", line 217, in _lazy_init\n",
      "    torch._C._cuda_init()\n",
      "RuntimeError: Found no NVIDIA driver on your system. Please check that you have an NVIDIA GPU and installed a driver from http://www.nvidia.com/Download/index.aspx\n"
     ]
    }
   ],
   "source": [
    "!python -c \"import torch; print(torch.cuda.is_available()); print(torch.version.cuda); print(torch.cuda.get_device_name(0))\""
   ]
  },
  {
   "cell_type": "code",
   "execution_count": 4,
   "metadata": {},
   "outputs": [
    {
     "name": "stdout",
     "output_type": "stream",
     "text": [
      "✅ All good\n"
     ]
    }
   ],
   "source": [
    "!python -c \"from allennlp.modules.feedforward import FeedForward; print('✅ All good')\"\n"
   ]
  },
  {
   "cell_type": "code",
   "execution_count": 5,
   "metadata": {},
   "outputs": [],
   "source": [
    "!python tokenizer.py"
   ]
  },
  {
   "cell_type": "code",
   "execution_count": 6,
   "metadata": {},
   "outputs": [],
   "source": [
    "!python layers.py"
   ]
  },
  {
   "cell_type": "code",
   "execution_count": 7,
   "metadata": {},
   "outputs": [],
   "source": [
    "!python model.py"
   ]
  },
  {
   "cell_type": "code",
   "execution_count": 2,
   "metadata": {},
   "outputs": [
    {
     "name": "stderr",
     "output_type": "stream",
     "text": [
      "c:\\Users\\varun\\anaconda3\\envs\\allennlp_env\\lib\\site-packages\\tqdm\\auto.py:21: TqdmWarning: IProgress not found. Please update jupyter and ipywidgets. See https://ipywidgets.readthedocs.io/en/stable/user_install.html\n",
      "  from .autonotebook import tqdm as notebook_tqdm\n"
     ]
    }
   ],
   "source": [
    "from rdkit import Chem\n",
    "from model import MolGen\n",
    "\n",
    "# load data\n",
    "data = []\n",
    "with open('qm9.csv', \"r\") as f:\n",
    "    for line in f.readlines()[1:]:\n",
    "        data.append(line.split(\",\")[1])\n",
    "\n",
    "# create model\n",
    "gan_mol = MolGen(data, hidden_dim=64, lr=1e-3, device=\"cpu\")"
   ]
  },
  {
   "cell_type": "code",
   "execution_count": null,
   "metadata": {},
   "outputs": [],
   "source": [
    "# create dataloader\n",
    "loader = gan_mol.create_dataloader(data, batch_size=128, shuffle=True, num_workers=10)\n",
    "\n",
    "# train model for 20000 steps\n",
    "gan_mol.train_n_steps(loader, max_step=20000, evaluate_every=100)\n",
    "\n",
    "# save the model after training\n",
    "import torch\n",
    "import os\n",
    "\n",
    "# Create a directory for saving models if it doesn't exist\n",
    "os.makedirs('saved_models', exist_ok=True)\n",
    "\n",
    "# Save generator and discriminator if available\n",
    "torch.save(gan_mol.generator.state_dict(), 'saved_models/generator.pth')\n",
    "torch.save(gan_mol.discriminator.state_dict(), 'saved_models/discriminator.pth')\n",
    "\n",
    "print(\"Model saved successfully.\")"
   ]
  },
  {
   "cell_type": "code",
   "execution_count": null,
   "metadata": {},
   "outputs": [],
   "source": [
    "gan_mol.eval()\n",
    "\n",
    "print('ok')"
   ]
  },
  {
   "cell_type": "code",
   "execution_count": null,
   "metadata": {},
   "outputs": [],
   "source": [
    "# After training\n",
    "# generate Smiles molecules\n",
    "smiles_list = gan_mol.generate_n(8)\n",
    "\n",
    "# convert with rdkit\n",
    "mol_list = [Chem.MolFromSmiles(m) for m in smiles_list]\n",
    "\n",
    "# draw\n",
    "Chem.Draw.MolsToGridImage(mol_list, molsPerRow=4, subImgSize=(250, 250), maxMols=10)"
   ]
  },
  {
   "cell_type": "code",
   "execution_count": null,
   "metadata": {},
   "outputs": [],
   "source": []
  }
 ],
 "metadata": {
  "kernelspec": {
   "display_name": "tyag",
   "language": "python",
   "name": "python3"
  },
  "language_info": {
   "codemirror_mode": {
    "name": "ipython",
    "version": 3
   },
   "file_extension": ".py",
   "mimetype": "text/x-python",
   "name": "python",
   "nbconvert_exporter": "python",
   "pygments_lexer": "ipython3",
   "version": "3.10.10"
  },
  "widgets": {
   "application/vnd.jupyter.widget-state+json": {
    "state": {},
    "version_major": 2,
    "version_minor": 0
   }
  }
 },
 "nbformat": 4,
 "nbformat_minor": 4
}
